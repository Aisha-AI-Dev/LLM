{
 "cells": [
  {
   "cell_type": "code",
   "execution_count": 4,
   "metadata": {},
   "outputs": [
    {
     "name": "stdout",
     "output_type": "stream",
     "text": [
      "Intel MKL WARNING: Support of Intel(R) Streaming SIMD Extensions 4.2 (Intel(R) SSE4.2) enabled only processors has been deprecated. Intel oneAPI Math Kernel Library 2025.0 will require Intel(R) Advanced Vector Extensions (Intel(R) AVX) instructions.\n",
      "Intel MKL WARNING: Support of Intel(R) Streaming SIMD Extensions 4.2 (Intel(R) SSE4.2) enabled only processors has been deprecated. Intel oneAPI Math Kernel Library 2025.0 will require Intel(R) Advanced Vector Extensions (Intel(R) AVX) instructions.\n"
     ]
    }
   ],
   "source": [
    "import torch\n",
    "from torch.utils.data import Dataset\n",
    "import random\n",
    "\n",
    "class ArithmeticDataset(Dataset):\n",
    "    def __init__(self, max_length, num_samples):\n",
    "        self.max_length = max_length\n",
    "        self.num_samples = num_samples\n",
    "        self.data = self.generate_data()\n",
    "\n",
    "    def __len__(self):\n",
    "        return len(self.data)\n",
    "\n",
    "    def __getitem__(self, idx):\n",
    "        return self.data[idx]\n",
    "\n",
    "    def generate_number(self, length):\n",
    "        return random.randint(10**(length-1), 10**length - 1)\n",
    "\n",
    "    def generate_data(self):\n",
    "        raise NotImplementedError(\"Subclasses must implement this method\")"
   ]
  },
  {
   "cell_type": "code",
   "execution_count": 5,
   "metadata": {},
   "outputs": [],
   "source": [
    "class AdditionDataset(ArithmeticDataset):\n",
    "    def generate_data(self):\n",
    "        data = []\n",
    "        samples_per_combination = self.num_samples // (self.max_length ** 2)\n",
    "        for i in range(1, self.max_length + 1):\n",
    "            for j in range(1, self.max_length + 1):\n",
    "                for _ in range(samples_per_combination):\n",
    "                    num1 = self.generate_number(i)\n",
    "                    num2 = self.generate_number(j)\n",
    "                    result = num1 + num2\n",
    "                    data.append((f\"{num1}+{num2}=\", str(result)))\n",
    "        return data"
   ]
  },
  {
   "cell_type": "code",
   "execution_count": 6,
   "metadata": {},
   "outputs": [],
   "source": [
    "class MultiplicationDataset(ArithmeticDataset):\n",
    "    def generate_data(self):\n",
    "        data = []\n",
    "        samples_per_combination = self.num_samples // (self.max_length ** 2)\n",
    "        for i in range(1, self.max_length + 1):\n",
    "            for j in range(1, self.max_length + 1):\n",
    "                for _ in range(samples_per_combination):\n",
    "                    num1 = self.generate_number(i)\n",
    "                    num2 = self.generate_number(j)\n",
    "                    result = num1 * num2\n",
    "                    data.append((f\"{num1}*{num2}=\", str(result)))\n",
    "        return data"
   ]
  },
  {
   "cell_type": "code",
   "execution_count": 7,
   "metadata": {},
   "outputs": [],
   "source": [
    "class SortingDataset(ArithmeticDataset):\n",
    "    def generate_data(self):\n",
    "        data = []\n",
    "        samples_per_combination = self.num_samples // (self.max_length ** 2)\n",
    "        for i in range(1, self.max_length + 1):  # number of integers\n",
    "            for j in range(1, self.max_length + 1):  # max digit length\n",
    "                for _ in range(samples_per_combination):\n",
    "                    numbers = [self.generate_number(random.randint(1, j)) for _ in range(i)]\n",
    "                    indices = list('abcdefghijklmnopqrstuvwxyz'[:i])\n",
    "                    input_str = ','.join([f\"{idx}:{num}\" for idx, num in zip(indices, numbers)])\n",
    "                    sorted_indices = [idx for _, idx in sorted(zip(numbers, indices))]\n",
    "                    output_str = ''.join(sorted_indices)\n",
    "                    data.append((input_str, output_str))\n",
    "        return data"
   ]
  },
  {
   "cell_type": "code",
   "execution_count": 8,
   "metadata": {},
   "outputs": [],
   "source": [
    "def create_datasets(dataset_class, max_length, train_samples, test_samples):\n",
    "    train_dataset = dataset_class(max_length, train_samples)\n",
    "    test_dataset = dataset_class(max_length, test_samples)\n",
    "    return train_dataset, test_dataset"
   ]
  },
  {
   "cell_type": "code",
   "execution_count": 9,
   "metadata": {},
   "outputs": [
    {
     "name": "stdout",
     "output_type": "stream",
     "text": [
      "Addition sample: ('5+6=', '11')\n",
      "Multiplication sample: ('6*7=', '42')\n",
      "Sorting sample: ('a:1', 'a')\n"
     ]
    }
   ],
   "source": [
    "# Set parameters\n",
    "max_length = 20  # maximum length of operands\n",
    "train_samples = 200_000  # 20 million as mentioned in the paper\n",
    "test_samples = 1_000  # adjust as needed\n",
    "\n",
    "# Create datasets\n",
    "addition_train, addition_test = create_datasets(AdditionDataset, max_length, train_samples, test_samples)\n",
    "multiplication_train, multiplication_test = create_datasets(MultiplicationDataset, max_length, train_samples, test_samples)\n",
    "sorting_train, sorting_test = create_datasets(SortingDataset, max_length, train_samples, test_samples)\n",
    "\n",
    "# Print some samples\n",
    "print(\"Addition sample:\", addition_train[0])\n",
    "print(\"Multiplication sample:\", multiplication_train[0])\n",
    "print(\"Sorting sample:\", sorting_train[0])"
   ]
  },
  {
   "cell_type": "code",
   "execution_count": 10,
   "metadata": {},
   "outputs": [
    {
     "name": "stdout",
     "output_type": "stream",
     "text": [
      "\n",
      "Addition Samples:\n",
      "Input: 4623494+298217012=, Output: 302840506\n",
      "Input: 3736383673135537194+79578343076=, Output: 3736383752713880270\n",
      "Input: 92539759590168941+8941235487487=, Output: 92548700825656428\n",
      "Input: 85822118956+78=, Output: 85822119034\n",
      "Input: 294909+32712015421647=, Output: 32712015716556\n",
      "Input: 4127069+70319306423347=, Output: 70319310550416\n",
      "Input: 80599427074+81006405357393=, Output: 81087004784467\n",
      "Input: 747220552569195282+8017=, Output: 747220552569203299\n",
      "Input: 6487202964900457382+5631818=, Output: 6487202964906089200\n",
      "Input: 55+5421825494=, Output: 5421825549\n",
      "\n",
      "Multiplication Samples:\n",
      "Input: 8280107543689690*4172213134716008913=, Output: 34546373450643234240268814946206970\n",
      "Input: 959762765314616*809983476469=, Output: 777391981235033638217770904\n",
      "Input: 17995*627325765=, Output: 11288727141175\n",
      "Input: 85819371937035625104*22282902805=, Output: 1912304723659109414014850016720\n",
      "Input: 901487158224*1936855207086=, Output: 1746050096527315167975264\n",
      "Input: 1787*4283074786=, Output: 7653854642582\n",
      "Input: 1447180483319195837*681208532419302=, Output: 985831693187725554559986736845774\n",
      "Input: 2974305190*38617575404=, Output: 114860454949333546760\n",
      "Input: 470639104401099*5180129385476=, Output: 2437971454662239969889038124\n",
      "Input: 170731199610299946*93425570961849=, Output: 15950659804593683939986612760154\n",
      "\n",
      "Sorting Samples:\n",
      "Input: a:84,b:64,c:1,d:9,e:76,f:6,g:26, Output: cfdgbea\n",
      "Input: a:3281224617,b:490962686881,c:13,d:6,e:39010,f:21475496962,g:25165,h:51,i:8647509518198,j:82280476,k:867501,l:31237626992,m:6197,n:26097814710,o:36,p:46463158155,q:75, Output: dcohqmgekjafnlpbi\n",
      "Input: a:44,b:1618,c:993,d:50,e:288,f:479583826,g:1328,h:10,i:980,j:110024366,k:99,l:3795, Output: hadkeicgbljf\n",
      "Input: a:517,b:620,c:968,d:177,e:792,f:46,g:9, Output: gfdabec\n",
      "Input: a:29,b:515655078565885684,c:56915645275, Output: acb\n",
      "Input: a:62998,b:977029942,c:59839368,d:80931346351,e:3271578,f:25,g:20249,h:53929,i:5328300494554,j:1739774,k:7535463495354,l:4240668897355773,m:744946507405272,n:113641864260,o:58642364530511,p:929342256024250,q:447250049837917,r:13,s:709501458571, Output: rfghajecbdnsikoqmpl\n",
      "Input: a:9,b:61,c:304,d:6541,e:39,f:9277,g:934,h:65196,i:1,j:18663,k:2419,l:178, Output: iaeblcgkdfjh\n",
      "Input: a:5249465488450579,b:7650936950217196,c:8,d:61157506,e:2604450984771838110,f:6240770714517672599,g:2770155257370,h:64195390809,i:56227015723,j:8344825409839652762,k:56419754925600,l:986,m:1510,n:96,o:498244033195018875,p:68357535602130470,q:59861833496577, Output: cnlmdihgkqabpoefj\n",
      "Input: a:67668564139,b:69494442630,c:338,d:452499010368,e:6,f:496392891870,g:801796031,h:613639036613,i:813740603591,j:7231365390910,k:114100609126, Output: ecgabkdfhij\n",
      "Input: a:2,b:6,c:4,d:1,e:5,f:8,g:9,h:6,i:6,j:8,k:1,l:8,m:6,n:4,o:9,p:7,q:7,r:9, Output: dkacnebhimpqfjlgor\n"
     ]
    }
   ],
   "source": [
    "import random\n",
    "\n",
    "def print_samples(dataset, name, num_samples=10):\n",
    "    print(f\"\\n{name} Samples:\")\n",
    "    for _ in range(num_samples):\n",
    "        idx = random.randint(0, len(dataset) - 1)\n",
    "        sample = dataset[idx]\n",
    "        print(f\"Input: {sample[0]}, Output: {sample[1]}\")\n",
    "\n",
    "# Sample from Addition dataset\n",
    "print_samples(addition_train, \"Addition\")\n",
    "\n",
    "# Sample from Multiplication dataset\n",
    "print_samples(multiplication_train, \"Multiplication\")\n",
    "\n",
    "# Sample from Sorting dataset\n",
    "print_samples(sorting_train, \"Sorting\")"
   ]
  },
  {
   "cell_type": "code",
   "execution_count": null,
   "metadata": {},
   "outputs": [],
   "source": []
  }
 ],
 "metadata": {
  "kernelspec": {
   "display_name": "Pytorch",
   "language": "python",
   "name": "python3"
  },
  "language_info": {
   "codemirror_mode": {
    "name": "ipython",
    "version": 3
   },
   "file_extension": ".py",
   "mimetype": "text/x-python",
   "name": "python",
   "nbconvert_exporter": "python",
   "pygments_lexer": "ipython3",
   "version": "3.9.19"
  }
 },
 "nbformat": 4,
 "nbformat_minor": 2
}
